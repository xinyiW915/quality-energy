{
 "cells": [
  {
   "cell_type": "code",
   "execution_count": 1,
   "metadata": {
    "collapsed": true,
    "pycharm": {
     "name": "#%%\n"
    }
   },
   "outputs": [],
   "source": [
    "import os\n",
    "import pandas as pd\n",
    "import numpy as np\n",
    "import matplotlib.pyplot as plt\n",
    "import seaborn as sns\n",
    "from datetime import datetime"
   ]
  },
  {
   "cell_type": "code",
   "execution_count": 2,
   "outputs": [],
   "source": [
    "def convert_to_list(string):\n",
    "    if isinstance(string, str):\n",
    "        return string.split(',')\n",
    "    return string\n",
    "# data = pd.read_csv('data.csv', converters={'column_name': convert_to_list})"
   ],
   "metadata": {
    "collapsed": false,
    "pycharm": {
     "name": "#%%\n"
    }
   }
  },
  {
   "cell_type": "code",
   "execution_count": 3,
   "outputs": [
    {
     "data": {
      "text/plain": "        video_name                               vid  \\\n0  Vlog_2160P-030a                   Vlog_2160P-030a   \n1  Vlog_2160P-030a                   Vlog_2160P-030a   \n2  Vlog_2160P-030a                   Vlog_2160P-030a   \n3  Vlog_2160P-030a                   Vlog_2160P-030a   \n4  Vlog_2160P-030a                   Vlog_2160P-030a   \n5  Vlog_2160P-030a  Vlog_2160P-030a_downsample_1080p   \n6  Vlog_2160P-030a  Vlog_2160P-030a_downsample_1080p   \n7  Vlog_2160P-030a  Vlog_2160P-030a_downsample_1080p   \n\n                                          time_stamp  \\\n0  [[Timestamp('2023-11-25 07:28:41.807000'), Tim...   \n1  [[Timestamp('2023-11-25 07:34:17.496000'), Tim...   \n2  [[Timestamp('2023-11-25 07:38:14.687000'), Tim...   \n3  [[Timestamp('2023-11-25 07:43:01.553000'), Tim...   \n4  [[Timestamp('2023-11-25 07:46:34.294000'), Tim...   \n5  [[Timestamp('2023-11-26 03:10:14.024000'), Tim...   \n6  [[Timestamp('2023-11-26 03:19:57.223000'), Tim...   \n7  [[Timestamp('2023-11-26 03:28:50.472000'), Tim...   \n\n                                               power failure_decoding_power  \\\n0  [[169.59, 184.17, 195.01, 193.16, 181.38, 180....                     []   \n1  [[158.49, 177.29, 166.01, 177.13, 172.31, 181....                     []   \n2  [[150.35, 156.08, 163.92, 161.6, 153.82, 119.6...                     []   \n3  [[154.01, 151.21, 151.4, 158.85, 79.029, 130.18]]                     []   \n4                                 [[162.39, 167.47]]                     []   \n5  [[137.66, 137.01, 134.66, 131.93, 140.91, 137....                     []   \n6  [[128.03, 114.25, 117.85, 117.3, 127.13, 114.8...                     []   \n7  [[97.82700000000001, 107.42, 96.771, 104.97, 1...                     []   \n\n  failure_decoding_time  \n0                    []  \n1                    []  \n2                    []  \n3                    []  \n4                    []  \n5                    []  \n6                    []  \n7                    []  ",
      "text/html": "<div>\n<style scoped>\n    .dataframe tbody tr th:only-of-type {\n        vertical-align: middle;\n    }\n\n    .dataframe tbody tr th {\n        vertical-align: top;\n    }\n\n    .dataframe thead th {\n        text-align: right;\n    }\n</style>\n<table border=\"1\" class=\"dataframe\">\n  <thead>\n    <tr style=\"text-align: right;\">\n      <th></th>\n      <th>video_name</th>\n      <th>vid</th>\n      <th>time_stamp</th>\n      <th>power</th>\n      <th>failure_decoding_power</th>\n      <th>failure_decoding_time</th>\n    </tr>\n  </thead>\n  <tbody>\n    <tr>\n      <th>0</th>\n      <td>Vlog_2160P-030a</td>\n      <td>Vlog_2160P-030a</td>\n      <td>[[Timestamp('2023-11-25 07:28:41.807000'), Tim...</td>\n      <td>[[169.59, 184.17, 195.01, 193.16, 181.38, 180....</td>\n      <td>[]</td>\n      <td>[]</td>\n    </tr>\n    <tr>\n      <th>1</th>\n      <td>Vlog_2160P-030a</td>\n      <td>Vlog_2160P-030a</td>\n      <td>[[Timestamp('2023-11-25 07:34:17.496000'), Tim...</td>\n      <td>[[158.49, 177.29, 166.01, 177.13, 172.31, 181....</td>\n      <td>[]</td>\n      <td>[]</td>\n    </tr>\n    <tr>\n      <th>2</th>\n      <td>Vlog_2160P-030a</td>\n      <td>Vlog_2160P-030a</td>\n      <td>[[Timestamp('2023-11-25 07:38:14.687000'), Tim...</td>\n      <td>[[150.35, 156.08, 163.92, 161.6, 153.82, 119.6...</td>\n      <td>[]</td>\n      <td>[]</td>\n    </tr>\n    <tr>\n      <th>3</th>\n      <td>Vlog_2160P-030a</td>\n      <td>Vlog_2160P-030a</td>\n      <td>[[Timestamp('2023-11-25 07:43:01.553000'), Tim...</td>\n      <td>[[154.01, 151.21, 151.4, 158.85, 79.029, 130.18]]</td>\n      <td>[]</td>\n      <td>[]</td>\n    </tr>\n    <tr>\n      <th>4</th>\n      <td>Vlog_2160P-030a</td>\n      <td>Vlog_2160P-030a</td>\n      <td>[[Timestamp('2023-11-25 07:46:34.294000'), Tim...</td>\n      <td>[[162.39, 167.47]]</td>\n      <td>[]</td>\n      <td>[]</td>\n    </tr>\n    <tr>\n      <th>5</th>\n      <td>Vlog_2160P-030a</td>\n      <td>Vlog_2160P-030a_downsample_1080p</td>\n      <td>[[Timestamp('2023-11-26 03:10:14.024000'), Tim...</td>\n      <td>[[137.66, 137.01, 134.66, 131.93, 140.91, 137....</td>\n      <td>[]</td>\n      <td>[]</td>\n    </tr>\n    <tr>\n      <th>6</th>\n      <td>Vlog_2160P-030a</td>\n      <td>Vlog_2160P-030a_downsample_1080p</td>\n      <td>[[Timestamp('2023-11-26 03:19:57.223000'), Tim...</td>\n      <td>[[128.03, 114.25, 117.85, 117.3, 127.13, 114.8...</td>\n      <td>[]</td>\n      <td>[]</td>\n    </tr>\n    <tr>\n      <th>7</th>\n      <td>Vlog_2160P-030a</td>\n      <td>Vlog_2160P-030a_downsample_1080p</td>\n      <td>[[Timestamp('2023-11-26 03:28:50.472000'), Tim...</td>\n      <td>[[97.82700000000001, 107.42, 96.771, 104.97, 1...</td>\n      <td>[]</td>\n      <td>[]</td>\n    </tr>\n  </tbody>\n</table>\n</div>"
     },
     "execution_count": 3,
     "metadata": {},
     "output_type": "execute_result"
    }
   ],
   "source": [
    "codec = 'x265'\n",
    "process = 'decoding'\n",
    "folder_path = f'../metrics/energy_log/{codec}/'\n",
    "\n",
    "files = os.listdir(folder_path)\n",
    "processed_video_names = set()\n",
    "power_log = pd.DataFrame()\n",
    "\n",
    "for file in files:\n",
    "    if file.endswith('.csv') and process in file:\n",
    "        video_name = file.rsplit('_', 2)[-2] + '_' + file.rsplit('_', 2)[-1].split('.')[0]\n",
    "\n",
    "        if video_name not in processed_video_names:\n",
    "            processed_video_names.add(video_name)\n",
    "            # print(video_name)\n",
    "            relevant_files = [f for f in sorted(files, reverse=True) if video_name in f and process in f]\n",
    "            # print(relevant_files)\n",
    "\n",
    "            combined_df = pd.DataFrame()\n",
    "            for relevant_file in relevant_files:\n",
    "                df = pd.read_csv(os.path.join(folder_path, relevant_file))\n",
    "                combined_df = pd.concat([combined_df, df], ignore_index=True)\n",
    "            combined_df.insert(0, 'video_name', video_name)\n",
    "\n",
    "            power_log = pd.concat([power_log, combined_df], ignore_index=True)\n",
    "\n",
    "# Save the combined DataFrame to a new CSV file\n",
    "# power_log.to_csv(f'../metrics/encoding_energy_log_hardware_{codec}.csv', index=False)\n",
    "power_log[0:8]"
   ],
   "metadata": {
    "collapsed": false,
    "pycharm": {
     "name": "#%%\n"
    }
   }
  },
  {
   "cell_type": "code",
   "execution_count": 4,
   "outputs": [
    {
     "data": {
      "text/plain": "array(['Vlog_2160P-030a', 'Vlog_2160P-030a_downsample_1080p',\n       'Vlog_2160P-030a_downsample_720p', 'Sports_2160P-086d',\n       'Sports_2160P-086d_downsample_1080p',\n       'Sports_2160P-086d_downsample_720p', 'Gaming_2160P-2cb1',\n       'Gaming_2160P-2cb1_downsample_1080p'], dtype=object)"
     },
     "execution_count": 4,
     "metadata": {},
     "output_type": "execute_result"
    }
   ],
   "source": [
    "vid_uniques = power_log['vid'].unique()\n",
    "vid_uniques[0:8]"
   ],
   "metadata": {
    "collapsed": false,
    "pycharm": {
     "name": "#%%\n"
    }
   }
  },
  {
   "cell_type": "code",
   "execution_count": 5,
   "outputs": [
    {
     "data": {
      "text/plain": "          video_name                                 vid category  resolution  \\\n0  Sports_2160P-1b70                   Sports_2160P-1b70   Sports        2160   \n1  Sports_2160P-1b70                   Sports_2160P-1b70   Sports        2160   \n2  Sports_2160P-1b70                   Sports_2160P-1b70   Sports        2160   \n3  Sports_2160P-1b70                   Sports_2160P-1b70   Sports        2160   \n4  Sports_2160P-1b70                   Sports_2160P-1b70   Sports        2160   \n5  Sports_2160P-1b70  Sports_2160P-1b70_downsample_1080p   Sports        1080   \n6  Sports_2160P-1b70  Sports_2160P-1b70_downsample_1080p   Sports        1080   \n7  Sports_2160P-1b70  Sports_2160P-1b70_downsample_1080p   Sports        1080   \n\n   width  height   pixfmt  framerate  bitrate_rawvideo (kb/s)  \\\n0   3840    2160  yuv420p   29.97003                  2983014   \n1   3840    2160  yuv420p   29.97003                  2983014   \n2   3840    2160  yuv420p   29.97003                  2983014   \n3   3840    2160  yuv420p   29.97003                  2983014   \n4   3840    2160  yuv420p   29.97003                  2983014   \n5   1920    1080  yuv420p   29.97003                  2983014   \n6   1920    1080  yuv420p   29.97003                  2983014   \n7   1920    1080  yuv420p   29.97003                  2983014   \n\n   bitrate_encoded (kb/s)  ...  duplicate_bitrate_rawvideo (kb/s)  \\\n0                  159628  ...                            2488320   \n1                   44789  ...                            2488320   \n2                    4700  ...                            2488320   \n3                     912  ...                            2488320   \n4                     270  ...                            2488320   \n5                   61068  ...                             622080   \n6                    8860  ...                             622080   \n7                    1451  ...                             622080   \n\n         start_time_encode          end_time_encode  count_encode  \\\n0  2023-11-23 09:12:36.983  2023-11-23 09:17:57.466             1   \n1  2023-11-23 09:27:26.409  2023-11-23 09:30:30.552             1   \n2  2023-11-23 09:34:12.980  2023-11-23 09:36:14.136             1   \n3  2023-11-23 09:39:44.434  2023-11-23 09:41:19.807             1   \n4  2023-11-23 09:44:50.008  2023-11-23 09:46:23.079             1   \n5  2023-11-22 15:17:09.925  2023-11-22 15:25:51.027             1   \n6  2023-11-22 15:33:21.355  2023-11-22 15:37:27.952             1   \n7  2023-11-22 15:44:12.022  2023-11-22 15:46:41.622             1   \n\n         start_time_decode          end_time_decode  count_decode  \\\n0  2023-11-23 09:18:12.233  2023-11-23 09:18:33.947             1   \n1  2023-11-23 09:30:44.449  2023-11-23 09:30:57.118             1   \n2  2023-11-23 09:36:35.476  2023-11-23 09:36:40.188             1   \n3  2023-11-23 09:41:33.943  2023-11-23 09:41:41.260             1   \n4  2023-11-23 09:46:36.901  2023-11-23 09:46:39.081             1   \n5  2023-11-22 15:26:04.794  2023-11-22 15:27:23.503             1   \n6  2023-11-22 15:37:42.093  2023-11-22 15:38:21.415             1   \n7  2023-11-22 15:46:55.705  2023-11-22 15:47:15.802             1   \n\n  target_encode_energy decode_energy  total_energy  \n0         32163.603573   1776.831074  33940.434647  \n1         18221.151505    953.408349  19174.559854  \n2          9685.419266    324.841353  10010.260619  \n3          7256.542938    415.676026   7672.218964  \n4          6706.360227    176.169433   6882.529661  \n5          8749.527821    828.169349   9577.697169  \n6          3531.625268    343.086919   3874.712187  \n7          2085.173318    158.103753   2243.277070  \n\n[8 rows x 26 columns]",
      "text/html": "<div>\n<style scoped>\n    .dataframe tbody tr th:only-of-type {\n        vertical-align: middle;\n    }\n\n    .dataframe tbody tr th {\n        vertical-align: top;\n    }\n\n    .dataframe thead th {\n        text-align: right;\n    }\n</style>\n<table border=\"1\" class=\"dataframe\">\n  <thead>\n    <tr style=\"text-align: right;\">\n      <th></th>\n      <th>video_name</th>\n      <th>vid</th>\n      <th>category</th>\n      <th>resolution</th>\n      <th>width</th>\n      <th>height</th>\n      <th>pixfmt</th>\n      <th>framerate</th>\n      <th>bitrate_rawvideo (kb/s)</th>\n      <th>bitrate_encoded (kb/s)</th>\n      <th>...</th>\n      <th>duplicate_bitrate_rawvideo (kb/s)</th>\n      <th>start_time_encode</th>\n      <th>end_time_encode</th>\n      <th>count_encode</th>\n      <th>start_time_decode</th>\n      <th>end_time_decode</th>\n      <th>count_decode</th>\n      <th>target_encode_energy</th>\n      <th>decode_energy</th>\n      <th>total_energy</th>\n    </tr>\n  </thead>\n  <tbody>\n    <tr>\n      <th>0</th>\n      <td>Sports_2160P-1b70</td>\n      <td>Sports_2160P-1b70</td>\n      <td>Sports</td>\n      <td>2160</td>\n      <td>3840</td>\n      <td>2160</td>\n      <td>yuv420p</td>\n      <td>29.97003</td>\n      <td>2983014</td>\n      <td>159628</td>\n      <td>...</td>\n      <td>2488320</td>\n      <td>2023-11-23 09:12:36.983</td>\n      <td>2023-11-23 09:17:57.466</td>\n      <td>1</td>\n      <td>2023-11-23 09:18:12.233</td>\n      <td>2023-11-23 09:18:33.947</td>\n      <td>1</td>\n      <td>32163.603573</td>\n      <td>1776.831074</td>\n      <td>33940.434647</td>\n    </tr>\n    <tr>\n      <th>1</th>\n      <td>Sports_2160P-1b70</td>\n      <td>Sports_2160P-1b70</td>\n      <td>Sports</td>\n      <td>2160</td>\n      <td>3840</td>\n      <td>2160</td>\n      <td>yuv420p</td>\n      <td>29.97003</td>\n      <td>2983014</td>\n      <td>44789</td>\n      <td>...</td>\n      <td>2488320</td>\n      <td>2023-11-23 09:27:26.409</td>\n      <td>2023-11-23 09:30:30.552</td>\n      <td>1</td>\n      <td>2023-11-23 09:30:44.449</td>\n      <td>2023-11-23 09:30:57.118</td>\n      <td>1</td>\n      <td>18221.151505</td>\n      <td>953.408349</td>\n      <td>19174.559854</td>\n    </tr>\n    <tr>\n      <th>2</th>\n      <td>Sports_2160P-1b70</td>\n      <td>Sports_2160P-1b70</td>\n      <td>Sports</td>\n      <td>2160</td>\n      <td>3840</td>\n      <td>2160</td>\n      <td>yuv420p</td>\n      <td>29.97003</td>\n      <td>2983014</td>\n      <td>4700</td>\n      <td>...</td>\n      <td>2488320</td>\n      <td>2023-11-23 09:34:12.980</td>\n      <td>2023-11-23 09:36:14.136</td>\n      <td>1</td>\n      <td>2023-11-23 09:36:35.476</td>\n      <td>2023-11-23 09:36:40.188</td>\n      <td>1</td>\n      <td>9685.419266</td>\n      <td>324.841353</td>\n      <td>10010.260619</td>\n    </tr>\n    <tr>\n      <th>3</th>\n      <td>Sports_2160P-1b70</td>\n      <td>Sports_2160P-1b70</td>\n      <td>Sports</td>\n      <td>2160</td>\n      <td>3840</td>\n      <td>2160</td>\n      <td>yuv420p</td>\n      <td>29.97003</td>\n      <td>2983014</td>\n      <td>912</td>\n      <td>...</td>\n      <td>2488320</td>\n      <td>2023-11-23 09:39:44.434</td>\n      <td>2023-11-23 09:41:19.807</td>\n      <td>1</td>\n      <td>2023-11-23 09:41:33.943</td>\n      <td>2023-11-23 09:41:41.260</td>\n      <td>1</td>\n      <td>7256.542938</td>\n      <td>415.676026</td>\n      <td>7672.218964</td>\n    </tr>\n    <tr>\n      <th>4</th>\n      <td>Sports_2160P-1b70</td>\n      <td>Sports_2160P-1b70</td>\n      <td>Sports</td>\n      <td>2160</td>\n      <td>3840</td>\n      <td>2160</td>\n      <td>yuv420p</td>\n      <td>29.97003</td>\n      <td>2983014</td>\n      <td>270</td>\n      <td>...</td>\n      <td>2488320</td>\n      <td>2023-11-23 09:44:50.008</td>\n      <td>2023-11-23 09:46:23.079</td>\n      <td>1</td>\n      <td>2023-11-23 09:46:36.901</td>\n      <td>2023-11-23 09:46:39.081</td>\n      <td>1</td>\n      <td>6706.360227</td>\n      <td>176.169433</td>\n      <td>6882.529661</td>\n    </tr>\n    <tr>\n      <th>5</th>\n      <td>Sports_2160P-1b70</td>\n      <td>Sports_2160P-1b70_downsample_1080p</td>\n      <td>Sports</td>\n      <td>1080</td>\n      <td>1920</td>\n      <td>1080</td>\n      <td>yuv420p</td>\n      <td>29.97003</td>\n      <td>2983014</td>\n      <td>61068</td>\n      <td>...</td>\n      <td>622080</td>\n      <td>2023-11-22 15:17:09.925</td>\n      <td>2023-11-22 15:25:51.027</td>\n      <td>1</td>\n      <td>2023-11-22 15:26:04.794</td>\n      <td>2023-11-22 15:27:23.503</td>\n      <td>1</td>\n      <td>8749.527821</td>\n      <td>828.169349</td>\n      <td>9577.697169</td>\n    </tr>\n    <tr>\n      <th>6</th>\n      <td>Sports_2160P-1b70</td>\n      <td>Sports_2160P-1b70_downsample_1080p</td>\n      <td>Sports</td>\n      <td>1080</td>\n      <td>1920</td>\n      <td>1080</td>\n      <td>yuv420p</td>\n      <td>29.97003</td>\n      <td>2983014</td>\n      <td>8860</td>\n      <td>...</td>\n      <td>622080</td>\n      <td>2023-11-22 15:33:21.355</td>\n      <td>2023-11-22 15:37:27.952</td>\n      <td>1</td>\n      <td>2023-11-22 15:37:42.093</td>\n      <td>2023-11-22 15:38:21.415</td>\n      <td>1</td>\n      <td>3531.625268</td>\n      <td>343.086919</td>\n      <td>3874.712187</td>\n    </tr>\n    <tr>\n      <th>7</th>\n      <td>Sports_2160P-1b70</td>\n      <td>Sports_2160P-1b70_downsample_1080p</td>\n      <td>Sports</td>\n      <td>1080</td>\n      <td>1920</td>\n      <td>1080</td>\n      <td>yuv420p</td>\n      <td>29.97003</td>\n      <td>2983014</td>\n      <td>1451</td>\n      <td>...</td>\n      <td>622080</td>\n      <td>2023-11-22 15:44:12.022</td>\n      <td>2023-11-22 15:46:41.622</td>\n      <td>1</td>\n      <td>2023-11-22 15:46:55.705</td>\n      <td>2023-11-22 15:47:15.802</td>\n      <td>1</td>\n      <td>2085.173318</td>\n      <td>158.103753</td>\n      <td>2243.277070</td>\n    </tr>\n  </tbody>\n</table>\n<p>8 rows × 26 columns</p>\n</div>"
     },
     "execution_count": 5,
     "metadata": {},
     "output_type": "execute_result"
    }
   ],
   "source": [
    "metrics_hardware = pd.read_csv(f'../metrics/quality_energy_hardware_{codec}.csv')\n",
    "metrics_hardware[0:8]"
   ],
   "metadata": {
    "collapsed": false,
    "pycharm": {
     "name": "#%%\n"
    }
   }
  },
  {
   "cell_type": "code",
   "execution_count": 6,
   "outputs": [
    {
     "data": {
      "text/plain": "        video_name              vid  \\\n0  Vlog_2160P-030a  Vlog_2160P-030a   \n1  Vlog_2160P-030a  Vlog_2160P-030a   \n2  Vlog_2160P-030a  Vlog_2160P-030a   \n3  Vlog_2160P-030a  Vlog_2160P-030a   \n4  Vlog_2160P-030a  Vlog_2160P-030a   \n5  Vlog_2160P-030a  Vlog_2160P-030a   \n6  Vlog_2160P-030a  Vlog_2160P-030a   \n7  Vlog_2160P-030a  Vlog_2160P-030a   \n\n                                          time_stamp  \\\n0  [[Timestamp('2023-11-25 07:28:41.807000'), Tim...   \n1  [[Timestamp('2023-11-25 07:28:41.807000'), Tim...   \n2  [[Timestamp('2023-11-25 07:28:41.807000'), Tim...   \n3  [[Timestamp('2023-11-25 07:28:41.807000'), Tim...   \n4  [[Timestamp('2023-11-25 07:28:41.807000'), Tim...   \n5  [[Timestamp('2023-11-25 07:34:17.496000'), Tim...   \n6  [[Timestamp('2023-11-25 07:34:17.496000'), Tim...   \n7  [[Timestamp('2023-11-25 07:34:17.496000'), Tim...   \n\n                                               power failure_decoding_power  \\\n0  [[169.59, 184.17, 195.01, 193.16, 181.38, 180....                     []   \n1  [[169.59, 184.17, 195.01, 193.16, 181.38, 180....                     []   \n2  [[169.59, 184.17, 195.01, 193.16, 181.38, 180....                     []   \n3  [[169.59, 184.17, 195.01, 193.16, 181.38, 180....                     []   \n4  [[169.59, 184.17, 195.01, 193.16, 181.38, 180....                     []   \n5  [[158.49, 177.29, 166.01, 177.13, 172.31, 181....                     []   \n6  [[158.49, 177.29, 166.01, 177.13, 172.31, 181....                     []   \n7  [[158.49, 177.29, 166.01, 177.13, 172.31, 181....                     []   \n\n  failure_decoding_time  QP  \n0                    []  10  \n1                    []  20  \n2                    []  30  \n3                    []  40  \n4                    []  50  \n5                    []  10  \n6                    []  20  \n7                    []  30  ",
      "text/html": "<div>\n<style scoped>\n    .dataframe tbody tr th:only-of-type {\n        vertical-align: middle;\n    }\n\n    .dataframe tbody tr th {\n        vertical-align: top;\n    }\n\n    .dataframe thead th {\n        text-align: right;\n    }\n</style>\n<table border=\"1\" class=\"dataframe\">\n  <thead>\n    <tr style=\"text-align: right;\">\n      <th></th>\n      <th>video_name</th>\n      <th>vid</th>\n      <th>time_stamp</th>\n      <th>power</th>\n      <th>failure_decoding_power</th>\n      <th>failure_decoding_time</th>\n      <th>QP</th>\n    </tr>\n  </thead>\n  <tbody>\n    <tr>\n      <th>0</th>\n      <td>Vlog_2160P-030a</td>\n      <td>Vlog_2160P-030a</td>\n      <td>[[Timestamp('2023-11-25 07:28:41.807000'), Tim...</td>\n      <td>[[169.59, 184.17, 195.01, 193.16, 181.38, 180....</td>\n      <td>[]</td>\n      <td>[]</td>\n      <td>10</td>\n    </tr>\n    <tr>\n      <th>1</th>\n      <td>Vlog_2160P-030a</td>\n      <td>Vlog_2160P-030a</td>\n      <td>[[Timestamp('2023-11-25 07:28:41.807000'), Tim...</td>\n      <td>[[169.59, 184.17, 195.01, 193.16, 181.38, 180....</td>\n      <td>[]</td>\n      <td>[]</td>\n      <td>20</td>\n    </tr>\n    <tr>\n      <th>2</th>\n      <td>Vlog_2160P-030a</td>\n      <td>Vlog_2160P-030a</td>\n      <td>[[Timestamp('2023-11-25 07:28:41.807000'), Tim...</td>\n      <td>[[169.59, 184.17, 195.01, 193.16, 181.38, 180....</td>\n      <td>[]</td>\n      <td>[]</td>\n      <td>30</td>\n    </tr>\n    <tr>\n      <th>3</th>\n      <td>Vlog_2160P-030a</td>\n      <td>Vlog_2160P-030a</td>\n      <td>[[Timestamp('2023-11-25 07:28:41.807000'), Tim...</td>\n      <td>[[169.59, 184.17, 195.01, 193.16, 181.38, 180....</td>\n      <td>[]</td>\n      <td>[]</td>\n      <td>40</td>\n    </tr>\n    <tr>\n      <th>4</th>\n      <td>Vlog_2160P-030a</td>\n      <td>Vlog_2160P-030a</td>\n      <td>[[Timestamp('2023-11-25 07:28:41.807000'), Tim...</td>\n      <td>[[169.59, 184.17, 195.01, 193.16, 181.38, 180....</td>\n      <td>[]</td>\n      <td>[]</td>\n      <td>50</td>\n    </tr>\n    <tr>\n      <th>5</th>\n      <td>Vlog_2160P-030a</td>\n      <td>Vlog_2160P-030a</td>\n      <td>[[Timestamp('2023-11-25 07:34:17.496000'), Tim...</td>\n      <td>[[158.49, 177.29, 166.01, 177.13, 172.31, 181....</td>\n      <td>[]</td>\n      <td>[]</td>\n      <td>10</td>\n    </tr>\n    <tr>\n      <th>6</th>\n      <td>Vlog_2160P-030a</td>\n      <td>Vlog_2160P-030a</td>\n      <td>[[Timestamp('2023-11-25 07:34:17.496000'), Tim...</td>\n      <td>[[158.49, 177.29, 166.01, 177.13, 172.31, 181....</td>\n      <td>[]</td>\n      <td>[]</td>\n      <td>20</td>\n    </tr>\n    <tr>\n      <th>7</th>\n      <td>Vlog_2160P-030a</td>\n      <td>Vlog_2160P-030a</td>\n      <td>[[Timestamp('2023-11-25 07:34:17.496000'), Tim...</td>\n      <td>[[158.49, 177.29, 166.01, 177.13, 172.31, 181....</td>\n      <td>[]</td>\n      <td>[]</td>\n      <td>30</td>\n    </tr>\n  </tbody>\n</table>\n</div>"
     },
     "execution_count": 6,
     "metadata": {},
     "output_type": "execute_result"
    }
   ],
   "source": [
    "power_log = pd.merge(power_log, metrics_hardware[['vid', 'QP']], on='vid')\n",
    "power_log[0:8]"
   ],
   "metadata": {
    "collapsed": false,
    "pycharm": {
     "name": "#%%\n"
    }
   }
  },
  {
   "cell_type": "code",
   "execution_count": 7,
   "outputs": [],
   "source": [
    "# for i in range(len(vid_uniques)):\n",
    "#     power_log_sort = power_log[power_log['vid'] == vid_uniques[i]]\n",
    "#     power_log_sort = power_log_sort.reset_index(drop=True)\n",
    "#     print(vid_uniques[i])\n",
    "#\n",
    "#     for j in range(len(power_log_sort)):\n",
    "#         QP = power_log_sort['QP'][j]\n",
    "#         print(f'QP level: {QP}')\n",
    "#         power_list = power_log_sort['power'][j].replace('[[', '').replace(']]', '')\n",
    "#         power_list = convert_to_list(power_list)\n",
    "#         power_list = [float(item) for item in convert_to_list(power_list)]\n",
    "#\n",
    "#         time = power_log_sort['time_stamp'][j].replace('[[', '').replace(']]', '')\n",
    "#         time = convert_to_list(time)\n",
    "#         time_list = [datetime.strptime(x.strip().replace(\"Timestamp('\", \"\").replace(\"')\", \"\"),\n",
    "#                                        \"%Y-%m-%d %H:%M:%S.%f\") if '.' in x\n",
    "#                      else datetime.strptime(x.strip().replace(\"Timestamp('\", \"\").replace(\"')\", \"\"),\n",
    "#                                             \"%Y-%m-%d %H:%M:%S\")\n",
    "#                      for x in time]\n",
    "#\n",
    "#\n",
    "#         x = time_list\n",
    "#         y = power_list\n",
    "#\n",
    "#         label_name = f'{vid_uniques[i]} at QP {QP}'\n",
    "#         print(label_name)\n",
    "#         print(f'power list: {y}')\n",
    "#         plt.plot(x, y, label=label_name)\n",
    "#         # plt.scatter(x, y)\n",
    "#         plt.legend(loc='lower right', title='Video Sequence', fontsize=6, title_fontsize=6)\n",
    "#         plt.xlabel('timestamp')\n",
    "#         plt.ylabel('power')\n",
    "#\n",
    "#         # fig_path = f'../fig/power_time_plots/{vid_uniques[i]}_QP{QP}.png'\n",
    "#         # fig = plt.gcf() # gcf: Get Current Figure\n",
    "#         # fig.savefig(fig_path, dpi=300)\n",
    "#\n",
    "#         plt.show()\n",
    "#         plt.close()"
   ],
   "metadata": {
    "collapsed": false,
    "pycharm": {
     "name": "#%%\n"
    }
   }
  },
  {
   "cell_type": "code",
   "execution_count": 8,
   "outputs": [],
   "source": [
    "# from datetime import timedelta\n",
    "#\n",
    "# duplicate_time = 12\n",
    "#\n",
    "# for i in range(len(vid_uniques)):\n",
    "#     power_log_sort = power_log[power_log['vid'] == vid_uniques[i]]\n",
    "#     power_log_sort = power_log_sort.reset_index(drop=True)\n",
    "#     print(vid_uniques[i])\n",
    "#\n",
    "#     for j in range(len(power_log_sort)):\n",
    "#         QP = power_log_sort['QP'][j]\n",
    "#         print(f'QP level: {QP}')\n",
    "#         label_name = f'{vid_uniques[i]} at QP {QP}'\n",
    "#         print(label_name)\n",
    "#\n",
    "#         power_list = power_log_sort['power'][j].replace('[[', '').replace(']]', '')\n",
    "#         power_list = convert_to_list(power_list)\n",
    "#         power_list = [float(item) for item in convert_to_list(power_list)]\n",
    "#\n",
    "#         time = power_log_sort['time_stamp'][j].replace('[[', '').replace(']]', '')\n",
    "#         time = convert_to_list(time)\n",
    "#         time_list = [datetime.strptime(x.strip().replace(\"Timestamp('\", \"\").replace(\"')\", \"\"),\n",
    "#                                        \"%Y-%m-%d %H:%M:%S.%f\") if '.' in x\n",
    "#                      else datetime.strptime(x.strip().replace(\"Timestamp('\", \"\").replace(\"')\", \"\"),\n",
    "#                                             \"%Y-%m-%d %H:%M:%S\")\n",
    "#                      for x in time]\n",
    "#\n",
    "#         # Divide encode_power and encode_time into equal parts\n",
    "#         power_std_list = []\n",
    "#         time_duration_list = []\n",
    "#         power_duplicate = np.array_split(power_list, duplicate_time)\n",
    "#         time_duplicate = np.array_split(time_list, duplicate_time)\n",
    "#         # print(len(time_duplicate))\n",
    "#\n",
    "#         power_duplicate_std = []\n",
    "#         time_duplicate_duration = []\n",
    "#\n",
    "#         for k in range(duplicate_time):\n",
    "#\n",
    "#             if len(time_duplicate[k]) == 1:\n",
    "#                 print(power_duplicate[k])\n",
    "#                 print(time_duplicate[k])\n",
    "#                 print(len(time_duplicate[k]))\n",
    "#                 power_duplicate_std.append(0)\n",
    "#                 time_duplicate_duration.append(0)\n",
    "#\n",
    "#             elif len(time_duplicate[k]) == 0:\n",
    "#                 print(power_duplicate[k])\n",
    "#                 print(time_duplicate[k])\n",
    "#                 print(len(time_duplicate[k]))\n",
    "#                 power_duplicate_std.append(0)\n",
    "#                 time_duplicate_duration.append(0)\n",
    "#\n",
    "#             else:\n",
    "#                 power_duplicate_std.append(np.std(power_duplicate[k]))\n",
    "#                 time_duplicate_duration.append(timedelta.total_seconds(time_duplicate[k][-1] - time_duplicate[k][0]))\n",
    "#\n",
    "#         power_std_list.extend(power_duplicate_std)\n",
    "#         time_duration_list.extend(time_duplicate_duration)\n",
    "#\n",
    "#         # Plot power standard deviations\n",
    "#         print(power_std_list)\n",
    "#         print(len(power_std_list))\n",
    "#         # print(len(time_duration_list))\n",
    "#         plt.figure()\n",
    "#         plt.plot(range(len(power_std_list)), power_std_list)\n",
    "#         plt.xlabel('Repeat')\n",
    "#         plt.ylabel('Power Standard Deviation')\n",
    "#         plt.title('Power Standard Deviation for Each Repeat')\n",
    "#         plt.show()\n",
    "#         plt.close()\n",
    "#\n",
    "#         # Plot time durations\n",
    "#         plt.figure()\n",
    "#         plt.plot(range(len(time_duration_list)), time_duration_list)\n",
    "#         plt.xlabel('Repeat')\n",
    "#         plt.ylabel('Time Duration (seconds)')\n",
    "#         plt.title('Time Duration for Each Repeat')\n",
    "#         plt.show()\n",
    "#         plt.close()\n",
    "#\n",
    "# # [[Timestamp('2023-07-07 16:32:50.100000'), Timestamp('2023-07-07 16:32:50.942000'), Timestamp('2023-07-07 16:32:51.793000'), Timestamp('2023-07-07 16:32:52.659000'), Timestamp('2023-07-07 16:32:53.494000'), Timestamp('2023-07-07 16:32:53.985000'), Timestamp('2023-07-07 16:32:54.473000'), Timestamp('2023-07-07 16:32:54.953000'), Timestamp('2023-07-07 16:32:55.436000')]]"
   ],
   "metadata": {
    "collapsed": false,
    "pycharm": {
     "name": "#%%\n"
    }
   }
  },
  {
   "cell_type": "code",
   "execution_count": 8,
   "outputs": [],
   "source": [],
   "metadata": {
    "collapsed": false,
    "pycharm": {
     "name": "#%%\n"
    }
   }
  }
 ],
 "metadata": {
  "kernelspec": {
   "display_name": "Python 3",
   "language": "python",
   "name": "python3"
  },
  "language_info": {
   "codemirror_mode": {
    "name": "ipython",
    "version": 2
   },
   "file_extension": ".py",
   "mimetype": "text/x-python",
   "name": "python",
   "nbconvert_exporter": "python",
   "pygments_lexer": "ipython2",
   "version": "2.7.6"
  }
 },
 "nbformat": 4,
 "nbformat_minor": 0
}