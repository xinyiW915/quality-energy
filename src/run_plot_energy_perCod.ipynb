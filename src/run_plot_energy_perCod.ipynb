{
 "cells": [
  {
   "cell_type": "code",
   "execution_count": 1,
   "metadata": {
    "collapsed": true,
    "pycharm": {
     "name": "#%%\n"
    }
   },
   "outputs": [],
   "source": [
    "import pandas as pd\n",
    "import matplotlib.pyplot as plt\n",
    "import seaborn as sns"
   ]
  },
  {
   "cell_type": "code",
   "execution_count": null,
   "outputs": [],
   "source": [
    "power_log = pd.read_csv(\"../metrics/energy_log/power_log_2023-04-13.csv\", names=['time_stamp', 'power'])\n",
    "power_log['time_stamp'] = pd.to_datetime(power_log['time_stamp'])\n",
    "power_log.head()"
   ],
   "metadata": {
    "collapsed": false,
    "pycharm": {
     "name": "#%%\n"
    }
   }
  },
  {
   "cell_type": "code",
   "execution_count": null,
   "outputs": [],
   "source": [
    "duration = power_log['time_stamp'][5]-power_log['time_stamp'][4]\n",
    "duration"
   ],
   "metadata": {
    "collapsed": false,
    "pycharm": {
     "name": "#%%\n"
    }
   }
  },
  {
   "cell_type": "code",
   "execution_count": null,
   "outputs": [],
   "source": [
    "codec = 'SVT-AV1'\n",
    "metrics = pd.read_csv(f'../metrics/energy/YOUTUBE_UGC_1080P_{codec}_metrics_energy_repeat.csv')\n",
    "# metrics.head(8)\n",
    "metrics[0:8]"
   ],
   "metadata": {
    "collapsed": false,
    "pycharm": {
     "name": "#%%\n"
    }
   }
  },
  {
   "cell_type": "code",
   "execution_count": null,
   "outputs": [],
   "source": [
    "vid_uniques = metrics['vid'].unique()\n",
    "vid_uniques"
   ],
   "metadata": {
    "collapsed": false,
    "pycharm": {
     "name": "#%%\n"
    }
   }
  },
  {
   "cell_type": "code",
   "execution_count": null,
   "outputs": [],
   "source": [
    "# per video sequence\n",
    "# fig_op == 'vmaf_encode'\n",
    "for i in range(len(vid_uniques)):\n",
    "    metrics_sort = metrics[metrics['vid'] == vid_uniques[i]]\n",
    "    print(vid_uniques[i])\n",
    "\n",
    "    x = metrics_sort['target_encode_energy'].tolist()\n",
    "    print('target_encode_energy:', x)\n",
    "    y = metrics_sort['VMAF'].tolist()\n",
    "    print('VMAF:', y)\n",
    "\n",
    "    plt.plot(x, y, label=vid_uniques[i])\n",
    "    plt.scatter(x, y)\n",
    "    plt.legend(loc='lower right', title='Video Sequence', fontsize=6, title_fontsize=6)\n",
    "    plt.xlabel('Encode Energy (kJ)')\n",
    "    plt.ylabel('VMAF')\n",
    "    plt.title('VMAF vs Encode Energy')\n",
    "    plt.show()"
   ],
   "metadata": {
    "collapsed": false,
    "pycharm": {
     "name": "#%%\n"
    }
   }
  },
  {
   "cell_type": "code",
   "execution_count": null,
   "outputs": [],
   "source": [
    "fig_op = 'vmaf_encode'\n",
    "fig = sns.lineplot(data=metrics, x=\"target_encode_energy\", y=\"VMAF\", hue='vid', palette=\"Accent\", sort=False)\n",
    "plt.legend(loc='lower right', title='Video Sequence', fontsize=6, title_fontsize=6)\n",
    "plt.xlabel('Encode Energy (kJ)')\n",
    "plt.ylabel('VMAF')\n",
    "plt.title('VMAF vs Encode Energy')\n",
    "line_fig = fig.get_figure()"
   ],
   "metadata": {
    "collapsed": false,
    "pycharm": {
     "name": "#%%\n"
    }
   }
  },
  {
   "cell_type": "code",
   "execution_count": null,
   "outputs": [],
   "source": [
    "# per video sequence\n",
    "# fig_op == 'psnr_encode'\n",
    "for i in range(len(vid_uniques)):\n",
    "    metrics_sort = metrics[metrics['vid'] == vid_uniques[i]]\n",
    "    print(vid_uniques[i])\n",
    "\n",
    "    x = metrics_sort['target_encode_energy'].tolist()\n",
    "    print('target_encode_energy:', x)\n",
    "    y = metrics_sort['PSNR'].tolist()\n",
    "    print('PSNR:', y)\n",
    "\n",
    "    plt.plot(x, y, label=vid_uniques[i])\n",
    "    plt.scatter(x, y)\n",
    "    plt.legend(loc='lower right', title='Video Sequence', fontsize=6, title_fontsize=6)\n",
    "    plt.xlabel('Encode Energy (kJ)')\n",
    "    plt.ylabel('PSNR (dB)')\n",
    "    plt.title('PSNR vs Encode Energy')\n",
    "    plt.show()"
   ],
   "metadata": {
    "collapsed": false,
    "pycharm": {
     "name": "#%%\n"
    }
   }
  },
  {
   "cell_type": "code",
   "execution_count": null,
   "outputs": [],
   "source": [
    "fig_op == 'psnr_encode'\n",
    "fig = sns.lineplot(data=metrics, x=\"target_encode_energy\", y=\"PSNR\", hue='vid', palette=\"Accent\", sort=False)\n",
    "plt.legend(loc='lower right', title='Video Sequence', fontsize=6, title_fontsize=6)\n",
    "plt.xlabel('Encode Energy (kJ)')\n",
    "plt.ylabel('PSNR (dB)')\n",
    "plt.title('PSNR vs Encode Energy')\n",
    "line_fig = fig.get_figure()"
   ],
   "metadata": {
    "collapsed": false,
    "pycharm": {
     "name": "#%%\n"
    }
   }
  },
  {
   "cell_type": "code",
   "execution_count": null,
   "outputs": [],
   "source": [
    "# per video sequence\n",
    "# fig_op == 'bitrate_encode'\n",
    "for i in range(len(vid_uniques)):\n",
    "    metrics_sort = metrics[metrics['vid'] == vid_uniques[i]]\n",
    "    print(vid_uniques[i])\n",
    "\n",
    "    x = metrics_sort['bitrate_encoded (kb/s)'].tolist()\n",
    "    print('bitrate_encoded (kb/s):', x)\n",
    "    y = metrics_sort['target_encode_energy'].tolist()\n",
    "    print('target_encode_energy:', y)\n",
    "\n",
    "    plt.plot(x, y, label=vid_uniques[i])\n",
    "    plt.scatter(x, y)\n",
    "    plt.legend(loc='lower right', title='Video Sequence', fontsize=6, title_fontsize=6)\n",
    "    plt.xlabel('Bitrate (kb/s)')\n",
    "    plt.ylabel('Encode Energy (kJ)')\n",
    "    plt.title('Bitrate vs Encode Energy')\n",
    "    plt.show()"
   ],
   "metadata": {
    "collapsed": false,
    "pycharm": {
     "name": "#%%\n"
    }
   }
  },
  {
   "cell_type": "code",
   "execution_count": null,
   "outputs": [],
   "source": [
    "fig_op == 'bitrate_encode'\n",
    "fig = sns.lineplot(data=metrics, x=\"bitrate_encoded (kb/s)\", y=\"target_encode_energy\", hue='vid', palette=\"Accent\", sort=False)\n",
    "plt.legend(loc='lower right', title='Video Sequence', fontsize=6, title_fontsize=6)\n",
    "plt.xlabel('Bitrate (kb/s)')\n",
    "plt.ylabel('Encode Energy (kJ)')\n",
    "plt.title('Bitrate vs Encode Energy')\n",
    "line_fig = fig.get_figure()"
   ],
   "metadata": {
    "collapsed": false,
    "pycharm": {
     "name": "#%%\n"
    }
   }
  },
  {
   "cell_type": "code",
   "execution_count": null,
   "outputs": [],
   "source": [
    "# calculate the error\n",
    "# for normal distribution\n",
    "# S: =, P: sample mean, n: sample count, alpha: significance level\n",
    "# t(alpah/2): finished task (normal distribution)\n",
    "# fisher'exact test\n",
    "# T distribution table (t table, signigicance level(alpha/2))\n",
    "\n",
    "# scipy stats: calculate t statistics"
   ],
   "metadata": {
    "collapsed": false,
    "pycharm": {
     "name": "#%%\n"
    }
   }
  },
  {
   "cell_type": "code",
   "execution_count": 12,
   "outputs": [],
   "source": [
    "# calculate the error\n",
    "# for normal distribution\n",
    "# S: =, P: sample mean, n: sample count, alpha: significance level\n",
    "# t(alpah/2): finished task (normal distribution)\n",
    "# fisher'exact test\n",
    "# T distribution table (t table, signigicance level(alpha/2))\n",
    "\n",
    "# scipy stats: calculate t statistics"
   ],
   "metadata": {
    "collapsed": false,
    "pycharm": {
     "name": "#%%\n"
    }
   }
  },
  {
   "cell_type": "code",
   "execution_count": 12,
   "outputs": [],
   "source": [],
   "metadata": {
    "collapsed": false,
    "pycharm": {
     "name": "#%%\n"
    }
   }
  }
 ],
 "metadata": {
  "kernelspec": {
   "display_name": "Python 3",
   "language": "python",
   "name": "python3"
  },
  "language_info": {
   "codemirror_mode": {
    "name": "ipython",
    "version": 2
   },
   "file_extension": ".py",
   "mimetype": "text/x-python",
   "name": "python",
   "nbconvert_exporter": "python",
   "pygments_lexer": "ipython2",
   "version": "2.7.6"
  }
 },
 "nbformat": 4,
 "nbformat_minor": 0
}